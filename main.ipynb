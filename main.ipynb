{
 "cells": [
  {
   "cell_type": "code",
   "execution_count": null,
   "id": "bcf74463",
   "metadata": {},
   "outputs": [],
   "source": [
    "# from fiesc_big_data.ingest import ingest_sheets, save_csv, save_minio\n",
    "from fiesc_big_data.transform import read_csv_from_minio\n",
    "\n",
    "from minio import Minio\n",
    "import pandas as pd\n",
    "\n",
    "path_credentials = \"fiesc_big_data/assents/fiesccase.json\"\n",
    "name_table = \"Dados Educacionais Ficticios\"\n",
    "\n",
    "# Configurações do MinIO\n",
    "minio_client = Minio(\n",
    "    \"localhost:9000\",  # Endereço do servidor MinIO\n",
    "    access_key=\"\",  # Substitua pelo seu access key\n",
    "    secret_key=\"\",  # Substitua pelo seu secret key\n",
    "    secure=False,  # True se estiver usando HTTPS\n",
    ")\n",
    "\n",
    "bucket_name = \"fiesc\"\n",
    "pasta_destino = \"bronze/nativos/\"\n",
    "\n",
    "file = read_csv_from_minio(\n",
    "    minio_client, bucket_name, pasta_destino + \"matricula_aulas.csv\"\n",
    ")"
   ]
  },
  {
   "cell_type": "code",
   "execution_count": 2,
   "id": "f2870f0f",
   "metadata": {},
   "outputs": [
    {
     "name": "stdout",
     "output_type": "stream",
     "text": [
      "<class 'pandas.core.frame.DataFrame'>\n",
      "RangeIndex: 247291 entries, 0 to 247290\n",
      "Data columns (total 4 columns):\n",
      " #   Column         Non-Null Count   Dtype \n",
      "---  ------         --------------   ----- \n",
      " 0   id_matricula   247291 non-null  int64 \n",
      " 1   id_disciplina  247291 non-null  int64 \n",
      " 2   data_aula      247291 non-null  object\n",
      " 3   presente       247291 non-null  bool  \n",
      "dtypes: bool(1), int64(2), object(1)\n",
      "memory usage: 5.9+ MB\n"
     ]
    }
   ],
   "source": [
    "file.info()"
   ]
  },
  {
   "cell_type": "code",
   "execution_count": 68,
   "id": "a99fa0a0",
   "metadata": {},
   "outputs": [],
   "source": [
    "import re\n",
    "import unicodedata\n",
    "\n",
    "\n",
    "def clear_text(texto):\n",
    "    if isinstance(texto, str):\n",
    "        # Remove acentos\n",
    "        texto = (\n",
    "            unicodedata.normalize(\"NFKD\", texto)\n",
    "            .encode(\"ASCII\", \"ignore\")\n",
    "            .decode(\"ASCII\")\n",
    "        )\n",
    "        # Remove tudo que não for letra, número ou espaço\n",
    "        texto = re.sub(r\"[^A-Za-z0-9\\s]\", \"\", texto)\n",
    "    return texto"
   ]
  },
  {
   "cell_type": "code",
   "execution_count": 60,
   "id": "690875d6",
   "metadata": {},
   "outputs": [],
   "source": [
    "# Split na única coluna (vai gerar 3 colunas separadas)\n",
    "df = file.iloc[:, 0].str.split(\";\", expand=True)\n",
    "df.columns = [\"id_curso\", \"nome_curso\", \"area_conhecimento\"]"
   ]
  },
  {
   "cell_type": "code",
   "execution_count": 71,
   "id": "e8535829",
   "metadata": {},
   "outputs": [
    {
     "name": "stderr",
     "output_type": "stream",
     "text": [
      "/tmp/ipykernel_1689/606276797.py:2: FutureWarning: DataFrame.applymap has been deprecated. Use DataFrame.map instead.\n",
      "  df = df.applymap(clear_text)\n"
     ]
    }
   ],
   "source": [
    "# Aplica a função para todos os valores do DataFrame\n",
    "df = df.applymap(clear_text)"
   ]
  },
  {
   "cell_type": "code",
   "execution_count": 14,
   "id": "a9548342",
   "metadata": {},
   "outputs": [],
   "source": [
    "import yaml\n",
    "\n",
    "path = \"fiesc_big_data/assents/config.yml\"\n",
    "# Carregar o arquivo YAML\n",
    "with open(path) as file:\n",
    "    config = yaml.safe_load(file)"
   ]
  },
  {
   "cell_type": "code",
   "execution_count": 22,
   "id": "1ce57778",
   "metadata": {},
   "outputs": [
    {
     "ename": "ModuleNotFoundError",
     "evalue": "No module named 'jinja2'",
     "output_type": "error",
     "traceback": [
      "\u001b[0;31m---------------------------------------------------------------------------\u001b[0m",
      "\u001b[0;31mModuleNotFoundError\u001b[0m                       Traceback (most recent call last)",
      "Cell \u001b[0;32mIn[22], line 1\u001b[0m\n\u001b[0;32m----> 1\u001b[0m \u001b[38;5;28;01mfrom\u001b[39;00m\u001b[38;5;250m \u001b[39m\u001b[38;5;21;01mjinja2\u001b[39;00m\u001b[38;5;250m \u001b[39m\u001b[38;5;28;01mimport\u001b[39;00m Environment, FileSystemLoader\n\u001b[1;32m      2\u001b[0m \u001b[38;5;28;01mimport\u001b[39;00m\u001b[38;5;250m \u001b[39m\u001b[38;5;21;01mos\u001b[39;00m\n\u001b[1;32m      4\u001b[0m \u001b[38;5;28;01mdef\u001b[39;00m\u001b[38;5;250m \u001b[39m\u001b[38;5;21mrender_sql_template\u001b[39m(template_path, templates_dir\u001b[38;5;241m=\u001b[39m\u001b[38;5;124m'\u001b[39m\u001b[38;5;124msql_templates\u001b[39m\u001b[38;5;124m'\u001b[39m):\n\u001b[1;32m      5\u001b[0m \n\u001b[1;32m      6\u001b[0m         \u001b[38;5;66;03m# Configura o ambiente Jinja2\u001b[39;00m\n",
      "\u001b[0;31mModuleNotFoundError\u001b[0m: No module named 'jinja2'"
     ]
    }
   ],
   "source": [
    "from jinja2 import Environment, FileSystemLoader\n",
    "import os\n",
    "\n",
    "\n",
    "def render_sql_template(template_path, templates_dir=\"sql_templates\"):\n",
    "    # Configura o ambiente Jinja2\n",
    "    env = Environment(\n",
    "        loader=FileSystemLoader(templates_dir),\n",
    "        autoescape=False,\n",
    "        trim_blocks=True,\n",
    "        lstrip_blocks=True,\n",
    "    )\n",
    "    # Carrega e renderiza o template\n",
    "    template = env.get_template(template_path)\n",
    "    return template.render()"
   ]
  },
  {
   "cell_type": "code",
   "execution_count": 20,
   "id": "8b3dae25",
   "metadata": {},
   "outputs": [
    {
     "data": {
      "text/plain": [
       "'bronze/sheets'"
      ]
     },
     "execution_count": 20,
     "metadata": {},
     "output_type": "execute_result"
    }
   ],
   "source": [
    "config[\"minio\"][\"camadas\"][\"bronze\"][\"sheets\"][\"path\"]"
   ]
  },
  {
   "cell_type": "code",
   "execution_count": 8,
   "id": "b7fdb284",
   "metadata": {},
   "outputs": [
    {
     "data": {
      "text/plain": [
       "'raw/cursos.csv'"
      ]
     },
     "execution_count": 8,
     "metadata": {},
     "output_type": "execute_result"
    }
   ],
   "source": [
    "config[\"raw\"][\"cursos\"]"
   ]
  },
  {
   "cell_type": "code",
   "execution_count": null,
   "id": "3866d899",
   "metadata": {},
   "outputs": [],
   "source": [
    "print(\"Extraindo Cursos\")\n",
    "cursos = ingest_sheets(path_credentials, name_table, 0)\n",
    "print(\"Extraindo Disciplinas\")\n",
    "disciplinas = ingest_sheets(path_credentials, name_table, 1)\n",
    "print(\"Extraindo Turmas\")\n",
    "turmas = ingest_sheets(path_credentials, name_table, 2)\n",
    "\n",
    "save_csv(cursos, \"cursos\")\n",
    "save_csv(disciplinas, \"disciplinas\")\n",
    "save_csv(turmas, \"turmas\")\n",
    "\n",
    "print(\"salvando dados do google sheets no minio\")\n",
    "bucket_name = \"fiesc\"\n",
    "camada = \"bronze\"\n",
    "fonte_dados_nativos = \"nativos\"\n",
    "pasta_destino_nativos = f\"{camada}/{fonte_dados_nativos}/\"\n",
    "fonte_sheets = \"sheets\"\n",
    "pasta_destino = f\"{camada}/{fonte_sheets}/\"\n",
    "\n",
    "# path google sheets\n",
    "cursos_file = \"fiesc_big_data/raw/cursos.csv\"\n",
    "disciplinas_file = \"fiesc_big_data/raw/disciplinas.csv\"\n",
    "turmas_file = \"fiesc_big_data/raw/turmas.csv\"\n",
    "# Path nativos\n",
    "matricula_aula_file = \"fiesc_big_data/dados/matricula_aulas.csv\"\n",
    "matricula_disciplinas_file = \"fiesc_big_data/dados/matricula_disciplinas.csv\"\n",
    "matricula_notas_file = \"fiesc_big_data/dados/matricula_notas.csv\"\n",
    "turma_avaliacoes_file = \"fiesc_big_data/dados/turma_avaliacoes.csv\"\n",
    "\n",
    "save_minio(minio_client, bucket_name, pasta_destino, cursos_file)\n",
    "save_minio(minio_client, bucket_name, pasta_destino, disciplinas_file)\n",
    "save_minio(minio_client, bucket_name, pasta_destino, turmas_file)\n",
    "print(\"Salvando dados nativos no minio\")\n",
    "save_minio(minio_client, bucket_name, pasta_destino_nativos, matricula_aula_file)\n",
    "save_minio(minio_client, bucket_name, pasta_destino_nativos, matricula_disciplinas_file)\n",
    "save_minio(minio_client, bucket_name, pasta_destino_nativos, matricula_notas_file)\n",
    "save_minio(minio_client, bucket_name, pasta_destino_nativos, turma_avaliacoes_file)\n",
    "\n",
    "\n",
    "df_situacao_notas = read_spark_delta(spark, path_situacao_notas)\n",
    "df_situacao_notas.createOrReplaceTempView(\"situacao_notas\")\n",
    "\n",
    "df_situacao_presenca = read_spark_delta(spark, path_situacao_presenca)\n",
    "df_situacao_presenca.createOrReplaceTempView(\"situacao_presenca\")\n",
    "\n",
    "# Exemplo: ler dados de uma tabela\n",
    "df_alunos = spark.read.jdbc(url=db_url, table=\"alunos\", properties=properties)\n",
    "\n",
    "df_alunos_idade = df_alunos.withColumn(\n",
    "    \"idade\", floor(datediff(current_date(), col(\"data_nascimento\")) / 365.25)\n",
    ").withColumn(\n",
    "    \"idade_valida\",\n",
    "    when((col(\"idade\") >= 18) & (col(\"idade\") <= 90), \"sim\").otherwise(\"não\"),\n",
    ")\n",
    "df_alunos_idade.createOrReplaceTempView(\"alunos\")"
   ]
  },
  {
   "cell_type": "code",
   "execution_count": null,
   "id": "6465c1a0",
   "metadata": {},
   "outputs": [],
   "source": [
    "# from fiesc_big_data.ingest import ingest_sheets, save_csv, save_minio\n",
    "from fiesc_big_data.transform import read_csv_from_minio, clear_text, delta_lake_minio\n",
    "from minio import Minio\n",
    "import pandas as pd\n",
    "\n",
    "path_credentials = \"fiesc_big_data/assents/config/fiesccase.json\"\n",
    "name_table = \"Dados Educacionais Ficticios\"\n",
    "\n",
    "# Configurações do MinIO\n",
    "minio_client = Minio(\n",
    "    \"localhost:9000\",  # Endereço do servidor MinIO\n",
    "    access_key=\"minioadmin\",  # Substitua pelo seu access key\n",
    "    secret_key=\"minioadmin123\",  # Substitua pelo seu secret key\n",
    "    secure=False,  # True se estiver usando HTTPS\n",
    ")\n",
    "\n",
    "bucket_name = \"fiesc\"\n",
    "pasta_destino = \"bronze/sheets/\"\n",
    "\n",
    "df_cursos = read_csv_from_minio(minio_client, bucket_name, pasta_destino + \"cursos.csv\")\n",
    "df_cursos = df_cursos.iloc[:, 0].str.split(\";\", expand=True)\n",
    "df_cursos.columns = [\"id_curso\", \"nome_curso\", \"area_conhecimento\"]\n",
    "df_cursos = df_cursos.applymap(clear_text)\n",
    "\n",
    "df_disciplinas = read_csv_from_minio(\n",
    "    minio_client, bucket_name, pasta_destino + \"disciplinas.csv\"\n",
    ")\n",
    "df_disciplinas = df_disciplinas.iloc[:, 0].str.split(\";\", expand=True)\n",
    "df_disciplinas.columns = [\n",
    "    \"id_disciplina\",\n",
    "    \"id_curso\",\n",
    "    \"nome_disciplina\",\n",
    "    \"sigla\",\n",
    "    \"dia_semana\",\n",
    "    \"carga_horaria\",\n",
    "    \"avaliacao\",\n",
    "]\n",
    "df_disciplinas[\"carga_horaria\"] = df_disciplinas[\"carga_horaria\"].astype(int)\n",
    "df_disciplinas[\"avaliacao\"] = df_disciplinas[\"avaliacao\"].replace(\"\", \"0\").astype(int)\n",
    "df_disciplinas = df_disciplinas.applymap(clear_text)\n",
    "\n",
    "\n",
    "df_turmas = read_csv_from_minio(minio_client, bucket_name, pasta_destino + \"turmas.csv\")\n",
    "df_turmas = df_turmas.iloc[:, 0].str.split(\";\", expand=True)\n",
    "df_turmas.columns = [\n",
    "    \"id_turma\",\n",
    "    \"nome_turma\",\n",
    "    \"data_inicio\",\n",
    "    \"data_fim\",\n",
    "    \"codigo_curso\",\n",
    "]\n",
    "df_turmas[\"data_inicio\"] = pd.to_datetime(df_turmas[\"data_inicio\"], format=\"%Y-%m-%d\")\n",
    "df_turmas[\"data_fim\"] = pd.to_datetime(df_turmas[\"data_fim\"], format=\"%Y-%m-%d\")\n",
    "df_turmas = df_turmas.applymap(clear_text)\n",
    "\n",
    "# Lendo dados nativos do MinIO\n",
    "pasta_minio = \"bronze/nativos/\"\n",
    "df_matricula_aula = read_csv_from_minio(\n",
    "    minio_client, bucket_name, pasta_minio + \"matricula_aulas.csv\"\n",
    ")\n",
    "\n",
    "df_matriculas_disciplina = read_csv_from_minio(\n",
    "    minio_client, bucket_name, pasta_minio + \"matricula_disciplinas.csv\"\n",
    ")\n",
    "\n",
    "df_matriculas_notas = read_csv_from_minio(\n",
    "    minio_client, bucket_name, pasta_minio + \"matricula_notas.csv\"\n",
    ")\n",
    "\n",
    "df_turma_avaliacao = read_csv_from_minio(\n",
    "    minio_client, bucket_name, pasta_minio + \"turma_avaliacoes.csv\"\n",
    ")\n",
    "\n",
    "# Salvando os dados no em Delta Lake MinIO\n",
    "\n",
    "camada = \"silver\"\n",
    "print(\"Salvando os dados no Delta Lake Cursos\")\n",
    "delta_lake_minio(minio_client, bucket_name, camada, \"cursos\", df_cursos)\n",
    "print(\"Salvando os dados no Delta Lake Disciplinas\")\n",
    "delta_lake_minio(minio_client, bucket_name, camada, \"disciplinas\", df_disciplinas)\n",
    "print(\"Salvando os dados no Delta Lake Turmas\")\n",
    "delta_lake_minio(minio_client, bucket_name, camada, \"turmas\", df_turmas)\n",
    "print(\"Salvando os dados no Delta Lake Matricula Aulas\")\n",
    "delta_lake_minio(\n",
    "    minio_client, bucket_name, camada, \"matricula_aulas\", df_matricula_aula\n",
    ")\n",
    "print(\"Salvando os dados no Delta Lake Matricula Disciplinas\")\n",
    "delta_lake_minio(\n",
    "    minio_client, bucket_name, camada, \"matricula_disciplinas\", df_matriculas_disciplina\n",
    ")\n",
    "print(\"Salvando os dados no Delta Lake Matricula Notas\")\n",
    "delta_lake_minio(\n",
    "    minio_client, bucket_name, camada, \"matricula_notas\", df_matriculas_notas\n",
    ")\n",
    "print(\"Salvando os dados no Delta Lake Turma Avaliacoes\")\n",
    "delta_lake_minio(\n",
    "    minio_client, bucket_name, camada, \"turma_avaliacoes\", df_turma_avaliacao\n",
    ")\n",
    "print(\"✔️ Dados transformados e salvos com sucesso no Delta Lake.\")"
   ]
  }
 ],
 "metadata": {
  "kernelspec": {
   "display_name": "Python 3",
   "language": "python",
   "name": "python3"
  },
  "language_info": {
   "codemirror_mode": {
    "name": "ipython",
    "version": 3
   },
   "file_extension": ".py",
   "mimetype": "text/x-python",
   "name": "python",
   "nbconvert_exporter": "python",
   "pygments_lexer": "ipython3",
   "version": "3.12.10"
  }
 },
 "nbformat": 4,
 "nbformat_minor": 5
}
